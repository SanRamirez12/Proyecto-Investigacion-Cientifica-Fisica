{
 "cells": [
  {
   "cell_type": "code",
   "execution_count": 2,
   "id": "48c31121-865e-4487-adb9-8e850aca39d1",
   "metadata": {},
   "outputs": [],
   "source": [
    "%load_ext autoreload\n",
    "%autoreload 2"
   ]
  },
  {
   "cell_type": "code",
   "execution_count": 4,
   "id": "b534096a-ad36-4880-a712-70603658ae6a",
   "metadata": {},
   "outputs": [],
   "source": [
    "import joblib\n",
    "import optuna\n",
    "import utils_hyperparameter_opt as uho"
   ]
  },
  {
   "cell_type": "code",
   "execution_count": 6,
   "id": "713a8de9-42e4-4e60-bcf1-a64afc420b78",
   "metadata": {},
   "outputs": [
    {
     "name": "stdout",
     "output_type": "stream",
     "text": [
      "C:\\Users\\Popi1\\OneDrive\\Documentos\\GitHub\\Proyecto-Investigacion-Cientifica-Fisica\\src\\model development\\utils_hyperparameter_opt.py\n"
     ]
    }
   ],
   "source": [
    "print(uho.__file__)"
   ]
  },
  {
   "cell_type": "code",
   "execution_count": 10,
   "id": "33920655-9b09-42b8-81fa-7240786542b1",
   "metadata": {},
   "outputs": [
    {
     "ename": "AttributeError",
     "evalue": "module 'utils_hyperparameter_opt' has no attribute 'cargar_study_en_notebook'",
     "output_type": "error",
     "traceback": [
      "\u001b[1;31m---------------------------------------------------------------------------\u001b[0m",
      "\u001b[1;31mAttributeError\u001b[0m                            Traceback (most recent call last)",
      "Cell \u001b[1;32mIn[10], line 3\u001b[0m\n\u001b[0;32m      1\u001b[0m ruta \u001b[38;5;241m=\u001b[39m \u001b[38;5;124m\"\u001b[39m\u001b[38;5;124mC:\u001b[39m\u001b[38;5;130;01m\\\\\u001b[39;00m\u001b[38;5;124mUsers\u001b[39m\u001b[38;5;130;01m\\\\\u001b[39;00m\u001b[38;5;124mPopi1\u001b[39m\u001b[38;5;130;01m\\\\\u001b[39;00m\u001b[38;5;124mOneDrive\u001b[39m\u001b[38;5;130;01m\\\\\u001b[39;00m\u001b[38;5;124mDocumentos\u001b[39m\u001b[38;5;130;01m\\\\\u001b[39;00m\u001b[38;5;124mGitHub\u001b[39m\u001b[38;5;130;01m\\\\\u001b[39;00m\u001b[38;5;124mProyecto-Investigacion-Cientifica-Fisica\u001b[39m\u001b[38;5;130;01m\\\\\u001b[39;00m\u001b[38;5;124mdata\u001b[39m\u001b[38;5;130;01m\\\\\u001b[39;00m\u001b[38;5;124mhyperparameter studies\u001b[39m\u001b[38;5;130;01m\\\\\u001b[39;00m\u001b[38;5;124moptuna_agn_study_200trials_pesos_nombrados.pkl\u001b[39m\u001b[38;5;124m\"\u001b[39m\n\u001b[1;32m----> 3\u001b[0m uho\u001b[38;5;241m.\u001b[39mcargar_study_en_notebook(ruta)\n",
      "\u001b[1;31mAttributeError\u001b[0m: module 'utils_hyperparameter_opt' has no attribute 'cargar_study_en_notebook'"
     ]
    }
   ],
   "source": [
    "ruta = \"C:\\\\Users\\\\Popi1\\\\OneDrive\\\\Documentos\\\\GitHub\\\\Proyecto-Investigacion-Cientifica-Fisica\\\\data\\\\hyperparameter studies\\\\optuna_agn_study_200trials_pesos_nombrados.pkl\"\n",
    "\n",
    "uho.cargar_study_en_notebook(ruta)"
   ]
  },
  {
   "cell_type": "code",
   "execution_count": null,
   "id": "20c9ee02-d342-4e8a-bc36-32d338d287c5",
   "metadata": {},
   "outputs": [],
   "source": []
  }
 ],
 "metadata": {
  "kernelspec": {
   "display_name": "Python 3 (ipykernel)",
   "language": "python",
   "name": "python3"
  },
  "language_info": {
   "codemirror_mode": {
    "name": "ipython",
    "version": 3
   },
   "file_extension": ".py",
   "mimetype": "text/x-python",
   "name": "python",
   "nbconvert_exporter": "python",
   "pygments_lexer": "ipython3",
   "version": "3.12.7"
  }
 },
 "nbformat": 4,
 "nbformat_minor": 5
}
